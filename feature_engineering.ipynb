{
 "cells": [
  {
   "cell_type": "code",
   "execution_count": 1,
   "id": "46623160-662d-4a15-ae6f-a8181bc654f7",
   "metadata": {},
   "outputs": [],
   "source": [
    "import pandas as pd"
   ]
  },
  {
   "cell_type": "code",
   "execution_count": 2,
   "id": "7cd6ca58-f845-462d-9372-edb93fa84ab0",
   "metadata": {},
   "outputs": [
    {
     "data": {
      "text/html": [
       "<div>\n",
       "<style scoped>\n",
       "    .dataframe tbody tr th:only-of-type {\n",
       "        vertical-align: middle;\n",
       "    }\n",
       "\n",
       "    .dataframe tbody tr th {\n",
       "        vertical-align: top;\n",
       "    }\n",
       "\n",
       "    .dataframe thead th {\n",
       "        text-align: right;\n",
       "    }\n",
       "</style>\n",
       "<table border=\"1\" class=\"dataframe\">\n",
       "  <thead>\n",
       "    <tr style=\"text-align: right;\">\n",
       "      <th></th>\n",
       "      <th>id</th>\n",
       "      <th>qid1</th>\n",
       "      <th>qid2</th>\n",
       "      <th>question1</th>\n",
       "      <th>question2</th>\n",
       "      <th>is_duplicate</th>\n",
       "      <th>question1str</th>\n",
       "      <th>question2str</th>\n",
       "      <th>q1_tokens</th>\n",
       "      <th>q2_tokens</th>\n",
       "      <th>q1_lower</th>\n",
       "      <th>q2_lower</th>\n",
       "      <th>q1_no_stop</th>\n",
       "      <th>q2_no_stop</th>\n",
       "      <th>q1_no_punc</th>\n",
       "      <th>q2_no_punc</th>\n",
       "      <th>q1_stem</th>\n",
       "      <th>q2_stem</th>\n",
       "    </tr>\n",
       "  </thead>\n",
       "  <tbody>\n",
       "    <tr>\n",
       "      <th>0</th>\n",
       "      <td>0</td>\n",
       "      <td>1</td>\n",
       "      <td>2</td>\n",
       "      <td>What is the step by step guide to invest in sh...</td>\n",
       "      <td>What is the step by step guide to invest in sh...</td>\n",
       "      <td>0</td>\n",
       "      <td>What is the step by step guide to invest in sh...</td>\n",
       "      <td>What is the step by step guide to invest in sh...</td>\n",
       "      <td>['What', 'is', 'the', 'step', 'by', 'step', 'g...</td>\n",
       "      <td>['What', 'is', 'the', 'step', 'by', 'step', 'g...</td>\n",
       "      <td>['what', 'is', 'the', 'step', 'by', 'step', 'g...</td>\n",
       "      <td>['what', 'is', 'the', 'step', 'by', 'step', 'g...</td>\n",
       "      <td>['step', 'step', 'guide', 'invest', 'share', '...</td>\n",
       "      <td>['step', 'step', 'guide', 'invest', 'share', '...</td>\n",
       "      <td>['step', 'step', 'guide', 'invest', 'share', '...</td>\n",
       "      <td>['step', 'step', 'guide', 'invest', 'share', '...</td>\n",
       "      <td>['step', 'step', 'guid', 'invest', 'share', 'm...</td>\n",
       "      <td>['step', 'step', 'guid', 'invest', 'share', 'm...</td>\n",
       "    </tr>\n",
       "    <tr>\n",
       "      <th>1</th>\n",
       "      <td>1</td>\n",
       "      <td>3</td>\n",
       "      <td>4</td>\n",
       "      <td>What is the story of Kohinoor (Koh-i-Noor) Dia...</td>\n",
       "      <td>What would happen if the Indian government sto...</td>\n",
       "      <td>0</td>\n",
       "      <td>What is the story of Kohinoor (Koh-i-Noor) Dia...</td>\n",
       "      <td>What would happen if the Indian government sto...</td>\n",
       "      <td>['What', 'is', 'the', 'story', 'of', 'Kohinoor...</td>\n",
       "      <td>['What', 'would', 'happen', 'if', 'the', 'Indi...</td>\n",
       "      <td>['what', 'is', 'the', 'story', 'of', 'kohinoor...</td>\n",
       "      <td>['what', 'would', 'happen', 'if', 'the', 'indi...</td>\n",
       "      <td>['story', 'kohinoor', '(', 'koh-i-noor', ')', ...</td>\n",
       "      <td>['would', 'happen', 'indian', 'government', 's...</td>\n",
       "      <td>['story', 'kohinoor', 'koh-i-noor', 'diamond']</td>\n",
       "      <td>['would', 'happen', 'indian', 'government', 's...</td>\n",
       "      <td>['stori', 'kohinoor', 'koh-i-noor', 'diamond']</td>\n",
       "      <td>['would', 'happen', 'indian', 'govern', 'stole...</td>\n",
       "    </tr>\n",
       "  </tbody>\n",
       "</table>\n",
       "</div>"
      ],
      "text/plain": [
       "   id  qid1  qid2                                          question1  \\\n",
       "0   0     1     2  What is the step by step guide to invest in sh...   \n",
       "1   1     3     4  What is the story of Kohinoor (Koh-i-Noor) Dia...   \n",
       "\n",
       "                                           question2  is_duplicate  \\\n",
       "0  What is the step by step guide to invest in sh...             0   \n",
       "1  What would happen if the Indian government sto...             0   \n",
       "\n",
       "                                        question1str  \\\n",
       "0  What is the step by step guide to invest in sh...   \n",
       "1  What is the story of Kohinoor (Koh-i-Noor) Dia...   \n",
       "\n",
       "                                        question2str  \\\n",
       "0  What is the step by step guide to invest in sh...   \n",
       "1  What would happen if the Indian government sto...   \n",
       "\n",
       "                                           q1_tokens  \\\n",
       "0  ['What', 'is', 'the', 'step', 'by', 'step', 'g...   \n",
       "1  ['What', 'is', 'the', 'story', 'of', 'Kohinoor...   \n",
       "\n",
       "                                           q2_tokens  \\\n",
       "0  ['What', 'is', 'the', 'step', 'by', 'step', 'g...   \n",
       "1  ['What', 'would', 'happen', 'if', 'the', 'Indi...   \n",
       "\n",
       "                                            q1_lower  \\\n",
       "0  ['what', 'is', 'the', 'step', 'by', 'step', 'g...   \n",
       "1  ['what', 'is', 'the', 'story', 'of', 'kohinoor...   \n",
       "\n",
       "                                            q2_lower  \\\n",
       "0  ['what', 'is', 'the', 'step', 'by', 'step', 'g...   \n",
       "1  ['what', 'would', 'happen', 'if', 'the', 'indi...   \n",
       "\n",
       "                                          q1_no_stop  \\\n",
       "0  ['step', 'step', 'guide', 'invest', 'share', '...   \n",
       "1  ['story', 'kohinoor', '(', 'koh-i-noor', ')', ...   \n",
       "\n",
       "                                          q2_no_stop  \\\n",
       "0  ['step', 'step', 'guide', 'invest', 'share', '...   \n",
       "1  ['would', 'happen', 'indian', 'government', 's...   \n",
       "\n",
       "                                          q1_no_punc  \\\n",
       "0  ['step', 'step', 'guide', 'invest', 'share', '...   \n",
       "1     ['story', 'kohinoor', 'koh-i-noor', 'diamond']   \n",
       "\n",
       "                                          q2_no_punc  \\\n",
       "0  ['step', 'step', 'guide', 'invest', 'share', '...   \n",
       "1  ['would', 'happen', 'indian', 'government', 's...   \n",
       "\n",
       "                                             q1_stem  \\\n",
       "0  ['step', 'step', 'guid', 'invest', 'share', 'm...   \n",
       "1     ['stori', 'kohinoor', 'koh-i-noor', 'diamond']   \n",
       "\n",
       "                                             q2_stem  \n",
       "0  ['step', 'step', 'guid', 'invest', 'share', 'm...  \n",
       "1  ['would', 'happen', 'indian', 'govern', 'stole...  "
      ]
     },
     "execution_count": 2,
     "metadata": {},
     "output_type": "execute_result"
    }
   ],
   "source": [
    "df1 = pd.read_csv('train_stem.csv')\n",
    "df = df1[['is_duplicate','q1_stem','q2_stem']]\n",
    "df1.head(2)"
   ]
  },
  {
   "cell_type": "code",
   "execution_count": 18,
   "id": "447419b8-ba6e-4cd5-9c7f-d794422e9fe5",
   "metadata": {},
   "outputs": [
    {
     "data": {
      "text/html": [
       "<div>\n",
       "<style scoped>\n",
       "    .dataframe tbody tr th:only-of-type {\n",
       "        vertical-align: middle;\n",
       "    }\n",
       "\n",
       "    .dataframe tbody tr th {\n",
       "        vertical-align: top;\n",
       "    }\n",
       "\n",
       "    .dataframe thead th {\n",
       "        text-align: right;\n",
       "    }\n",
       "</style>\n",
       "<table border=\"1\" class=\"dataframe\">\n",
       "  <thead>\n",
       "    <tr style=\"text-align: right;\">\n",
       "      <th></th>\n",
       "      <th>id</th>\n",
       "      <th>qid1</th>\n",
       "      <th>qid2</th>\n",
       "      <th>question1</th>\n",
       "      <th>question2</th>\n",
       "      <th>is_duplicate</th>\n",
       "      <th>question1str</th>\n",
       "      <th>question2str</th>\n",
       "      <th>q1_tokens</th>\n",
       "      <th>q2_tokens</th>\n",
       "      <th>q1_lower</th>\n",
       "      <th>q2_lower</th>\n",
       "      <th>q1_no_stop</th>\n",
       "      <th>q2_no_stop</th>\n",
       "      <th>q1_no_punc</th>\n",
       "      <th>q2_no_punc</th>\n",
       "      <th>q1_stem</th>\n",
       "      <th>q2_stem</th>\n",
       "    </tr>\n",
       "  </thead>\n",
       "  <tbody>\n",
       "    <tr>\n",
       "      <th>25</th>\n",
       "      <td>25</td>\n",
       "      <td>51</td>\n",
       "      <td>52</td>\n",
       "      <td>What are some tips on making it through the jo...</td>\n",
       "      <td>What are some tips on making it through the jo...</td>\n",
       "      <td>0</td>\n",
       "      <td>What are some tips on making it through the jo...</td>\n",
       "      <td>What are some tips on making it through the jo...</td>\n",
       "      <td>['What', 'are', 'some', 'tips', 'on', 'making'...</td>\n",
       "      <td>['What', 'are', 'some', 'tips', 'on', 'making'...</td>\n",
       "      <td>['what', 'are', 'some', 'tips', 'on', 'making'...</td>\n",
       "      <td>['what', 'are', 'some', 'tips', 'on', 'making'...</td>\n",
       "      <td>['tips', 'making', 'job', 'interview', 'proces...</td>\n",
       "      <td>['tips', 'making', 'job', 'interview', 'proces...</td>\n",
       "      <td>['tips', 'making', 'job', 'interview', 'proces...</td>\n",
       "      <td>['tips', 'making', 'job', 'interview', 'proces...</td>\n",
       "      <td>['tip', 'make', 'job', 'interview', 'process',...</td>\n",
       "      <td>['tip', 'make', 'job', 'interview', 'process',...</td>\n",
       "    </tr>\n",
       "  </tbody>\n",
       "</table>\n",
       "</div>"
      ],
      "text/plain": [
       "    id  qid1  qid2                                          question1  \\\n",
       "25  25    51    52  What are some tips on making it through the jo...   \n",
       "\n",
       "                                            question2  is_duplicate  \\\n",
       "25  What are some tips on making it through the jo...             0   \n",
       "\n",
       "                                         question1str  \\\n",
       "25  What are some tips on making it through the jo...   \n",
       "\n",
       "                                         question2str  \\\n",
       "25  What are some tips on making it through the jo...   \n",
       "\n",
       "                                            q1_tokens  \\\n",
       "25  ['What', 'are', 'some', 'tips', 'on', 'making'...   \n",
       "\n",
       "                                            q2_tokens  \\\n",
       "25  ['What', 'are', 'some', 'tips', 'on', 'making'...   \n",
       "\n",
       "                                             q1_lower  \\\n",
       "25  ['what', 'are', 'some', 'tips', 'on', 'making'...   \n",
       "\n",
       "                                             q2_lower  \\\n",
       "25  ['what', 'are', 'some', 'tips', 'on', 'making'...   \n",
       "\n",
       "                                           q1_no_stop  \\\n",
       "25  ['tips', 'making', 'job', 'interview', 'proces...   \n",
       "\n",
       "                                           q2_no_stop  \\\n",
       "25  ['tips', 'making', 'job', 'interview', 'proces...   \n",
       "\n",
       "                                           q1_no_punc  \\\n",
       "25  ['tips', 'making', 'job', 'interview', 'proces...   \n",
       "\n",
       "                                           q2_no_punc  \\\n",
       "25  ['tips', 'making', 'job', 'interview', 'proces...   \n",
       "\n",
       "                                              q1_stem  \\\n",
       "25  ['tip', 'make', 'job', 'interview', 'process',...   \n",
       "\n",
       "                                              q2_stem  \n",
       "25  ['tip', 'make', 'job', 'interview', 'process',...  "
      ]
     },
     "execution_count": 18,
     "metadata": {},
     "output_type": "execute_result"
    }
   ],
   "source": [
    "df1[25:26]"
   ]
  },
  {
   "cell_type": "code",
   "execution_count": 4,
   "id": "5fd4ad22-3f9a-494e-961b-03791c31b9a4",
   "metadata": {},
   "outputs": [
    {
     "name": "stderr",
     "output_type": "stream",
     "text": [
      "<ipython-input-4-f6e4cbf1b5e6>:1: SettingWithCopyWarning: \n",
      "A value is trying to be set on a copy of a slice from a DataFrame.\n",
      "Try using .loc[row_indexer,col_indexer] = value instead\n",
      "\n",
      "See the caveats in the documentation: https://pandas.pydata.org/pandas-docs/stable/user_guide/indexing.html#returning-a-view-versus-a-copy\n",
      "  df['total_num_unique_words'] = df.apply(lambda x: len(set(x.q1_stem.split()).union(set(x.q2_stem.split()))) ,axis=1)\n"
     ]
    }
   ],
   "source": [
    "df['total_num_unique_words'] = df.apply(lambda x: len(set(x.q1_stem.split()).union(set(x.q2_stem.split()))) ,axis=1)"
   ]
  },
  {
   "cell_type": "code",
   "execution_count": 5,
   "id": "9fe112b7-db88-477f-a8af-9b57a9381a66",
   "metadata": {},
   "outputs": [
    {
     "name": "stderr",
     "output_type": "stream",
     "text": [
      "<ipython-input-5-4d80b48b6076>:1: SettingWithCopyWarning: \n",
      "A value is trying to be set on a copy of a slice from a DataFrame.\n",
      "Try using .loc[row_indexer,col_indexer] = value instead\n",
      "\n",
      "See the caveats in the documentation: https://pandas.pydata.org/pandas-docs/stable/user_guide/indexing.html#returning-a-view-versus-a-copy\n",
      "  df['total_diff_words'] = df.apply(lambda x: abs(len(x.q1_stem.split()) - len(x.q2_stem.split())), axis=1)\n"
     ]
    }
   ],
   "source": [
    "df['total_diff_words'] = df.apply(lambda x: abs(len(x.q1_stem.split()) - len(x.q2_stem.split())), axis=1)"
   ]
  },
  {
   "cell_type": "code",
   "execution_count": 6,
   "id": "f2658675-116f-4c99-a903-fe9d99e1e258",
   "metadata": {},
   "outputs": [
    {
     "name": "stderr",
     "output_type": "stream",
     "text": [
      "<ipython-input-6-10ac0dd512c2>:1: SettingWithCopyWarning: \n",
      "A value is trying to be set on a copy of a slice from a DataFrame.\n",
      "Try using .loc[row_indexer,col_indexer] = value instead\n",
      "\n",
      "See the caveats in the documentation: https://pandas.pydata.org/pandas-docs/stable/user_guide/indexing.html#returning-a-view-versus-a-copy\n",
      "  df['total_words'] = df.apply(lambda x: len(x.q1_stem.split()) + len(x.q2_stem.split()), axis=1)\n"
     ]
    }
   ],
   "source": [
    "df['total_words'] = df.apply(lambda x: len(x.q1_stem.split()) + len(x.q2_stem.split()), axis=1)"
   ]
  },
  {
   "cell_type": "code",
   "execution_count": 7,
   "id": "c65b2610-fc07-4ab3-a5bc-ebad1b648c6d",
   "metadata": {},
   "outputs": [
    {
     "data": {
      "text/html": [
       "<div>\n",
       "<style scoped>\n",
       "    .dataframe tbody tr th:only-of-type {\n",
       "        vertical-align: middle;\n",
       "    }\n",
       "\n",
       "    .dataframe tbody tr th {\n",
       "        vertical-align: top;\n",
       "    }\n",
       "\n",
       "    .dataframe thead th {\n",
       "        text-align: right;\n",
       "    }\n",
       "</style>\n",
       "<table border=\"1\" class=\"dataframe\">\n",
       "  <thead>\n",
       "    <tr style=\"text-align: right;\">\n",
       "      <th></th>\n",
       "      <th>is_duplicate</th>\n",
       "      <th>q1_stem</th>\n",
       "      <th>q2_stem</th>\n",
       "      <th>total_num_unique_words</th>\n",
       "      <th>total_diff_words</th>\n",
       "      <th>total_words</th>\n",
       "    </tr>\n",
       "  </thead>\n",
       "  <tbody>\n",
       "    <tr>\n",
       "      <th>0</th>\n",
       "      <td>0</td>\n",
       "      <td>['step', 'step', 'guid', 'invest', 'share', 'm...</td>\n",
       "      <td>['step', 'step', 'guid', 'invest', 'share', 'm...</td>\n",
       "      <td>8</td>\n",
       "      <td>1</td>\n",
       "      <td>13</td>\n",
       "    </tr>\n",
       "    <tr>\n",
       "      <th>1</th>\n",
       "      <td>0</td>\n",
       "      <td>['stori', 'kohinoor', 'koh-i-noor', 'diamond']</td>\n",
       "      <td>['would', 'happen', 'indian', 'govern', 'stole...</td>\n",
       "      <td>11</td>\n",
       "      <td>5</td>\n",
       "      <td>13</td>\n",
       "    </tr>\n",
       "  </tbody>\n",
       "</table>\n",
       "</div>"
      ],
      "text/plain": [
       "   is_duplicate                                            q1_stem  \\\n",
       "0             0  ['step', 'step', 'guid', 'invest', 'share', 'm...   \n",
       "1             0     ['stori', 'kohinoor', 'koh-i-noor', 'diamond']   \n",
       "\n",
       "                                             q2_stem  total_num_unique_words  \\\n",
       "0  ['step', 'step', 'guid', 'invest', 'share', 'm...                       8   \n",
       "1  ['would', 'happen', 'indian', 'govern', 'stole...                      11   \n",
       "\n",
       "   total_diff_words  total_words  \n",
       "0                 1           13  \n",
       "1                 5           13  "
      ]
     },
     "execution_count": 7,
     "metadata": {},
     "output_type": "execute_result"
    }
   ],
   "source": [
    "df.head(2)"
   ]
  },
  {
   "cell_type": "code",
   "execution_count": 8,
   "id": "b7b2f60c-ef8f-4b52-9359-245e0a9b922a",
   "metadata": {},
   "outputs": [
    {
     "name": "stderr",
     "output_type": "stream",
     "text": [
      "<ipython-input-8-d415b57b5961>:1: SettingWithCopyWarning: \n",
      "A value is trying to be set on a copy of a slice from a DataFrame.\n",
      "Try using .loc[row_indexer,col_indexer] = value instead\n",
      "\n",
      "See the caveats in the documentation: https://pandas.pydata.org/pandas-docs/stable/user_guide/indexing.html#returning-a-view-versus-a-copy\n",
      "  df['q1_words'] = df.q1_stem.apply(lambda x: len(x.split()))\n",
      "<ipython-input-8-d415b57b5961>:2: SettingWithCopyWarning: \n",
      "A value is trying to be set on a copy of a slice from a DataFrame.\n",
      "Try using .loc[row_indexer,col_indexer] = value instead\n",
      "\n",
      "See the caveats in the documentation: https://pandas.pydata.org/pandas-docs/stable/user_guide/indexing.html#returning-a-view-versus-a-copy\n",
      "  df['q2_words'] = df.q2_stem.apply(lambda x: len(x.split()))\n"
     ]
    }
   ],
   "source": [
    "df['q1_words'] = df.q1_stem.apply(lambda x: len(x.split()))\n",
    "df['q2_words'] = df.q2_stem.apply(lambda x: len(x.split()))"
   ]
  },
  {
   "cell_type": "code",
   "execution_count": 9,
   "id": "0243abbc-4d9e-46d9-aa47-f3aba8b8f847",
   "metadata": {},
   "outputs": [],
   "source": [
    "# df.to_csv('train_features.csv',index=False)"
   ]
  }
 ],
 "metadata": {
  "kernelspec": {
   "display_name": "Python 3",
   "language": "python",
   "name": "python3"
  },
  "language_info": {
   "codemirror_mode": {
    "name": "ipython",
    "version": 3
   },
   "file_extension": ".py",
   "mimetype": "text/x-python",
   "name": "python",
   "nbconvert_exporter": "python",
   "pygments_lexer": "ipython3",
   "version": "3.8.8"
  }
 },
 "nbformat": 4,
 "nbformat_minor": 5
}
